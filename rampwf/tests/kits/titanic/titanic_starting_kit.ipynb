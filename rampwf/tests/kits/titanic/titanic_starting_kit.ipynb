{
 "cells": [
  {
   "cell_type": "markdown",
   "metadata": {},
   "source": [
    "# [Paris Saclay Center for Data Science](http://www.datascience-paris-saclay.fr)\n",
    "\n",
    "## [Titanic RAMP](http://www.ramp.studio/problems/titanic): survival prediction of Titanic passengers\n",
    "\n",
    "_Benoit Playe (Institut Curie/Mines ParisTech), Chloé-Agathe Azencott (Institut Curie/Mines ParisTech), Alex Gramfort (LTCI/Télécom ParisTech), Balázs Kégl (LAL/CNRS)_\n",
    "\n",
    "## Introduction\n",
    "This is an initiation project to introduce RAMP and get you to know how it works.\n",
    "\n",
    "The goal is to develop prediction models able to **identify people who survived from the sinking of the Titanic, based on gender, age, and ticketing information**. \n",
    "\n",
    "The data we will manipulate is from the [Titanic kaggle challenge](https://www.kaggle.com/c/titanic-gettingStarted)."
   ]
  },
  {
   "cell_type": "markdown",
   "metadata": {},
   "source": [
    "### Requirements\n",
    "\n",
    "* numpy>=1.10.0  \n",
    "* matplotlib>=1.5.0 \n",
    "* pandas>=0.19.0  \n",
    "* scikit-learn>=0.17 (different syntaxes for v0.17 and v0.18)   \n",
    "* seaborn>=0.7.1"
   ]
  },
  {
   "cell_type": "code",
   "execution_count": 4,
   "metadata": {
    "collapsed": true
   },
   "outputs": [],
   "source": [
    "%matplotlib inline\n",
    "import os\n",
    "import glob\n",
    "import numpy as np\n",
    "from scipy import io\n",
    "import matplotlib.pyplot as plt\n",
    "import pandas as pd"
   ]
  },
  {
   "cell_type": "markdown",
   "metadata": {},
   "source": [
    "## Exploratory data analysis"
   ]
  },
  {
   "cell_type": "markdown",
   "metadata": {},
   "source": [
    "### Loading the data"
   ]
  },
  {
   "cell_type": "code",
   "execution_count": 5,
   "metadata": {
    "scrolled": true
   },
   "outputs": [
    {
     "data": {
      "text/html": [
       "<div>\n",
       "<style>\n",
       "    .dataframe thead tr:only-child th {\n",
       "        text-align: right;\n",
       "    }\n",
       "\n",
       "    .dataframe thead th {\n",
       "        text-align: left;\n",
       "    }\n",
       "\n",
       "    .dataframe tbody tr th {\n",
       "        vertical-align: top;\n",
       "    }\n",
       "</style>\n",
       "<table border=\"1\" class=\"dataframe\">\n",
       "  <thead>\n",
       "    <tr style=\"text-align: right;\">\n",
       "      <th></th>\n",
       "      <th>Pclass</th>\n",
       "      <th>Name</th>\n",
       "      <th>Sex</th>\n",
       "      <th>Age</th>\n",
       "      <th>SibSp</th>\n",
       "      <th>Parch</th>\n",
       "      <th>Ticket</th>\n",
       "      <th>Fare</th>\n",
       "      <th>Cabin</th>\n",
       "      <th>Embarked</th>\n",
       "    </tr>\n",
       "  </thead>\n",
       "  <tbody>\n",
       "    <tr>\n",
       "      <th>0</th>\n",
       "      <td>3</td>\n",
       "      <td>Palsson, Mrs. Nils (Alma Cornelia Berglund)</td>\n",
       "      <td>female</td>\n",
       "      <td>29.0</td>\n",
       "      <td>0</td>\n",
       "      <td>4</td>\n",
       "      <td>349909</td>\n",
       "      <td>21.075</td>\n",
       "      <td>NaN</td>\n",
       "      <td>S</td>\n",
       "    </tr>\n",
       "    <tr>\n",
       "      <th>1</th>\n",
       "      <td>2</td>\n",
       "      <td>Beane, Mr. Edward</td>\n",
       "      <td>male</td>\n",
       "      <td>32.0</td>\n",
       "      <td>1</td>\n",
       "      <td>0</td>\n",
       "      <td>2908</td>\n",
       "      <td>26.000</td>\n",
       "      <td>NaN</td>\n",
       "      <td>S</td>\n",
       "    </tr>\n",
       "    <tr>\n",
       "      <th>2</th>\n",
       "      <td>3</td>\n",
       "      <td>Palsson, Miss. Stina Viola</td>\n",
       "      <td>female</td>\n",
       "      <td>3.0</td>\n",
       "      <td>3</td>\n",
       "      <td>1</td>\n",
       "      <td>349909</td>\n",
       "      <td>21.075</td>\n",
       "      <td>NaN</td>\n",
       "      <td>S</td>\n",
       "    </tr>\n",
       "    <tr>\n",
       "      <th>3</th>\n",
       "      <td>3</td>\n",
       "      <td>Torber, Mr. Ernst William</td>\n",
       "      <td>male</td>\n",
       "      <td>44.0</td>\n",
       "      <td>0</td>\n",
       "      <td>0</td>\n",
       "      <td>364511</td>\n",
       "      <td>8.050</td>\n",
       "      <td>NaN</td>\n",
       "      <td>S</td>\n",
       "    </tr>\n",
       "    <tr>\n",
       "      <th>4</th>\n",
       "      <td>2</td>\n",
       "      <td>Bystrom, Mrs. (Karolina)</td>\n",
       "      <td>female</td>\n",
       "      <td>42.0</td>\n",
       "      <td>0</td>\n",
       "      <td>0</td>\n",
       "      <td>236852</td>\n",
       "      <td>13.000</td>\n",
       "      <td>NaN</td>\n",
       "      <td>S</td>\n",
       "    </tr>\n",
       "  </tbody>\n",
       "</table>\n",
       "</div>"
      ],
      "text/plain": [
       "   Pclass                                         Name     Sex   Age  SibSp  \\\n",
       "0       3  Palsson, Mrs. Nils (Alma Cornelia Berglund)  female  29.0      0   \n",
       "1       2                            Beane, Mr. Edward    male  32.0      1   \n",
       "2       3                   Palsson, Miss. Stina Viola  female   3.0      3   \n",
       "3       3                    Torber, Mr. Ernst William    male  44.0      0   \n",
       "4       2                     Bystrom, Mrs. (Karolina)  female  42.0      0   \n",
       "\n",
       "   Parch  Ticket    Fare Cabin Embarked  \n",
       "0      4  349909  21.075   NaN        S  \n",
       "1      0    2908  26.000   NaN        S  \n",
       "2      1  349909  21.075   NaN        S  \n",
       "3      0  364511   8.050   NaN        S  \n",
       "4      0  236852  13.000   NaN        S  "
      ]
     },
     "execution_count": 5,
     "metadata": {},
     "output_type": "execute_result"
    }
   ],
   "source": [
    "train_filename = 'data/train.csv'\n",
    "data = pd.read_csv(train_filename)\n",
    "y_df = data['Survived']\n",
    "X_df = data.drop(['Survived', 'PassengerId'], axis=1)\n",
    "X_df.head(5)"
   ]
  },
  {
   "cell_type": "code",
   "execution_count": 6,
   "metadata": {},
   "outputs": [
    {
     "data": {
      "text/html": [
       "<div>\n",
       "<style>\n",
       "    .dataframe thead tr:only-child th {\n",
       "        text-align: right;\n",
       "    }\n",
       "\n",
       "    .dataframe thead th {\n",
       "        text-align: left;\n",
       "    }\n",
       "\n",
       "    .dataframe tbody tr th {\n",
       "        vertical-align: top;\n",
       "    }\n",
       "</style>\n",
       "<table border=\"1\" class=\"dataframe\">\n",
       "  <thead>\n",
       "    <tr style=\"text-align: right;\">\n",
       "      <th></th>\n",
       "      <th>PassengerId</th>\n",
       "      <th>Survived</th>\n",
       "      <th>Pclass</th>\n",
       "      <th>Age</th>\n",
       "      <th>SibSp</th>\n",
       "      <th>Parch</th>\n",
       "      <th>Fare</th>\n",
       "    </tr>\n",
       "  </thead>\n",
       "  <tbody>\n",
       "    <tr>\n",
       "      <th>count</th>\n",
       "      <td>356.000000</td>\n",
       "      <td>356.000000</td>\n",
       "      <td>356.000000</td>\n",
       "      <td>290.000000</td>\n",
       "      <td>356.000000</td>\n",
       "      <td>356.000000</td>\n",
       "      <td>356.000000</td>\n",
       "    </tr>\n",
       "    <tr>\n",
       "      <th>mean</th>\n",
       "      <td>451.713483</td>\n",
       "      <td>0.384831</td>\n",
       "      <td>2.300562</td>\n",
       "      <td>29.123862</td>\n",
       "      <td>0.550562</td>\n",
       "      <td>0.412921</td>\n",
       "      <td>31.657970</td>\n",
       "    </tr>\n",
       "    <tr>\n",
       "      <th>std</th>\n",
       "      <td>260.505039</td>\n",
       "      <td>0.487240</td>\n",
       "      <td>0.833861</td>\n",
       "      <td>14.103122</td>\n",
       "      <td>1.120978</td>\n",
       "      <td>0.798415</td>\n",
       "      <td>43.474154</td>\n",
       "    </tr>\n",
       "    <tr>\n",
       "      <th>min</th>\n",
       "      <td>7.000000</td>\n",
       "      <td>0.000000</td>\n",
       "      <td>1.000000</td>\n",
       "      <td>0.920000</td>\n",
       "      <td>0.000000</td>\n",
       "      <td>0.000000</td>\n",
       "      <td>0.000000</td>\n",
       "    </tr>\n",
       "    <tr>\n",
       "      <th>25%</th>\n",
       "      <td>229.750000</td>\n",
       "      <td>0.000000</td>\n",
       "      <td>2.000000</td>\n",
       "      <td>19.000000</td>\n",
       "      <td>0.000000</td>\n",
       "      <td>0.000000</td>\n",
       "      <td>7.925000</td>\n",
       "    </tr>\n",
       "    <tr>\n",
       "      <th>50%</th>\n",
       "      <td>445.000000</td>\n",
       "      <td>0.000000</td>\n",
       "      <td>3.000000</td>\n",
       "      <td>28.000000</td>\n",
       "      <td>0.000000</td>\n",
       "      <td>0.000000</td>\n",
       "      <td>15.245800</td>\n",
       "    </tr>\n",
       "    <tr>\n",
       "      <th>75%</th>\n",
       "      <td>686.750000</td>\n",
       "      <td>1.000000</td>\n",
       "      <td>3.000000</td>\n",
       "      <td>37.000000</td>\n",
       "      <td>1.000000</td>\n",
       "      <td>1.000000</td>\n",
       "      <td>31.275000</td>\n",
       "    </tr>\n",
       "    <tr>\n",
       "      <th>max</th>\n",
       "      <td>890.000000</td>\n",
       "      <td>1.000000</td>\n",
       "      <td>3.000000</td>\n",
       "      <td>71.000000</td>\n",
       "      <td>8.000000</td>\n",
       "      <td>6.000000</td>\n",
       "      <td>263.000000</td>\n",
       "    </tr>\n",
       "  </tbody>\n",
       "</table>\n",
       "</div>"
      ],
      "text/plain": [
       "       PassengerId    Survived      Pclass         Age       SibSp  \\\n",
       "count   356.000000  356.000000  356.000000  290.000000  356.000000   \n",
       "mean    451.713483    0.384831    2.300562   29.123862    0.550562   \n",
       "std     260.505039    0.487240    0.833861   14.103122    1.120978   \n",
       "min       7.000000    0.000000    1.000000    0.920000    0.000000   \n",
       "25%     229.750000    0.000000    2.000000   19.000000    0.000000   \n",
       "50%     445.000000    0.000000    3.000000   28.000000    0.000000   \n",
       "75%     686.750000    1.000000    3.000000   37.000000    1.000000   \n",
       "max     890.000000    1.000000    3.000000   71.000000    8.000000   \n",
       "\n",
       "            Parch        Fare  \n",
       "count  356.000000  356.000000  \n",
       "mean     0.412921   31.657970  \n",
       "std      0.798415   43.474154  \n",
       "min      0.000000    0.000000  \n",
       "25%      0.000000    7.925000  \n",
       "50%      0.000000   15.245800  \n",
       "75%      1.000000   31.275000  \n",
       "max      6.000000  263.000000  "
      ]
     },
     "execution_count": 6,
     "metadata": {},
     "output_type": "execute_result"
    }
   ],
   "source": [
    "data.describe()"
   ]
  },
  {
   "cell_type": "code",
   "execution_count": 7,
   "metadata": {},
   "outputs": [
    {
     "data": {
      "text/plain": [
       "PassengerId    356\n",
       "Survived       356\n",
       "Pclass         356\n",
       "Name           356\n",
       "Sex            356\n",
       "Age            290\n",
       "SibSp          356\n",
       "Parch          356\n",
       "Ticket         356\n",
       "Fare           356\n",
       "Cabin           83\n",
       "Embarked       356\n",
       "dtype: int64"
      ]
     },
     "execution_count": 7,
     "metadata": {},
     "output_type": "execute_result"
    }
   ],
   "source": [
    "data.count()"
   ]
  },
  {
   "cell_type": "markdown",
   "metadata": {},
   "source": [
    "The original training data frame has 891 rows. In the starting kit, we give you a subset of 445 rows. Some passengers have missing information: in particular `Age` and `Cabin` info can be missing. The meaning of the columns is explained on the [challenge website](https://www.kaggle.com/c/titanic-gettingStarted/data):"
   ]
  },
  {
   "cell_type": "markdown",
   "metadata": {},
   "source": [
    "### Predicting survival\n",
    "\n",
    "The goal is to predict whether a passenger has survived from other known attributes. Let us group the data according to the `Survived` columns:"
   ]
  },
  {
   "cell_type": "code",
   "execution_count": 9,
   "metadata": {},
   "outputs": [
    {
     "data": {
      "text/html": [
       "<div>\n",
       "<style>\n",
       "    .dataframe thead tr:only-child th {\n",
       "        text-align: right;\n",
       "    }\n",
       "\n",
       "    .dataframe thead th {\n",
       "        text-align: left;\n",
       "    }\n",
       "\n",
       "    .dataframe tbody tr th {\n",
       "        vertical-align: top;\n",
       "    }\n",
       "</style>\n",
       "<table border=\"1\" class=\"dataframe\">\n",
       "  <thead>\n",
       "    <tr style=\"text-align: right;\">\n",
       "      <th></th>\n",
       "      <th>PassengerId</th>\n",
       "      <th>Pclass</th>\n",
       "      <th>Name</th>\n",
       "      <th>Sex</th>\n",
       "      <th>Age</th>\n",
       "      <th>SibSp</th>\n",
       "      <th>Parch</th>\n",
       "      <th>Ticket</th>\n",
       "      <th>Fare</th>\n",
       "      <th>Cabin</th>\n",
       "      <th>Embarked</th>\n",
       "    </tr>\n",
       "    <tr>\n",
       "      <th>Survived</th>\n",
       "      <th></th>\n",
       "      <th></th>\n",
       "      <th></th>\n",
       "      <th></th>\n",
       "      <th></th>\n",
       "      <th></th>\n",
       "      <th></th>\n",
       "      <th></th>\n",
       "      <th></th>\n",
       "      <th></th>\n",
       "      <th></th>\n",
       "    </tr>\n",
       "  </thead>\n",
       "  <tbody>\n",
       "    <tr>\n",
       "      <th>0</th>\n",
       "      <td>219</td>\n",
       "      <td>219</td>\n",
       "      <td>219</td>\n",
       "      <td>219</td>\n",
       "      <td>179</td>\n",
       "      <td>219</td>\n",
       "      <td>219</td>\n",
       "      <td>219</td>\n",
       "      <td>219</td>\n",
       "      <td>27</td>\n",
       "      <td>219</td>\n",
       "    </tr>\n",
       "    <tr>\n",
       "      <th>1</th>\n",
       "      <td>137</td>\n",
       "      <td>137</td>\n",
       "      <td>137</td>\n",
       "      <td>137</td>\n",
       "      <td>111</td>\n",
       "      <td>137</td>\n",
       "      <td>137</td>\n",
       "      <td>137</td>\n",
       "      <td>137</td>\n",
       "      <td>56</td>\n",
       "      <td>137</td>\n",
       "    </tr>\n",
       "  </tbody>\n",
       "</table>\n",
       "</div>"
      ],
      "text/plain": [
       "          PassengerId  Pclass  Name  Sex  Age  SibSp  Parch  Ticket  Fare  \\\n",
       "Survived                                                                    \n",
       "0                 219     219   219  219  179    219    219     219   219   \n",
       "1                 137     137   137  137  111    137    137     137   137   \n",
       "\n",
       "          Cabin  Embarked  \n",
       "Survived                   \n",
       "0            27       219  \n",
       "1            56       137  "
      ]
     },
     "execution_count": 9,
     "metadata": {},
     "output_type": "execute_result"
    }
   ],
   "source": [
    "data.groupby('Survived').count()"
   ]
  },
  {
   "cell_type": "markdown",
   "metadata": {},
   "source": [
    "About two thirds of the passengers perished in the event. A dummy classifier that systematically returns \"0\" would have an accuracy of 62%, higher than that of a random model."
   ]
  },
  {
   "cell_type": "markdown",
   "metadata": {},
   "source": [
    "### Some plots"
   ]
  },
  {
   "cell_type": "markdown",
   "metadata": {},
   "source": [
    "#### Features densities and co-evolution\n",
    "A scatterplot matrix allows us to visualize:\n",
    "* on the diagonal, the density estimation for each feature\n",
    "* on each of the off-diagonal plots, a scatterplot between two features. Each dot represents an instance."
   ]
  },
  {
   "cell_type": "code",
   "execution_count": 10,
   "metadata": {},
   "outputs": [
    {
     "name": "stderr",
     "output_type": "stream",
     "text": [
      "/Users/kegl/anaconda/lib/python2.7/site-packages/ipykernel_launcher.py:3: FutureWarning: 'pandas.tools.plotting.scatter_matrix' is deprecated, import 'pandas.plotting.scatter_matrix' instead.\n",
      "  This is separate from the ipykernel package so we can avoid doing imports until\n"
     ]
    },
    {
     "data": {
      "image/png": "[encoded data removed]",
      "text/plain": [
       "<matplotlib.figure.Figure at 0x1088e2c50>"
      ]
     },
     "metadata": {},
     "output_type": "display_data"
    }
   ],
   "source": [
    "from pandas.tools.plotting import scatter_matrix\n",
    "scatter_matrix(data.get(['Fare', 'Pclass', 'Age']), alpha=0.2,\n",
    "               figsize=(8, 8), diagonal='kde');"
   ]
  },
  {
   "cell_type": "markdown",
   "metadata": {},
   "source": [
    "#### Non-linearly transformed data\n",
    "\n",
    "The `Fare` variable has a very heavy tail. We can log-transform it. "
   ]
  },
  {
   "cell_type": "code",
   "execution_count": 11,
   "metadata": {
    "scrolled": false
   },
   "outputs": [
    {
     "name": "stderr",
     "output_type": "stream",
     "text": [
      "/Users/kegl/anaconda/lib/python2.7/site-packages/ipykernel_launcher.py:3: FutureWarning: 'pandas.tools.plotting.scatter_matrix' is deprecated, import 'pandas.plotting.scatter_matrix' instead.\n",
      "  This is separate from the ipykernel package so we can avoid doing imports until\n"
     ]
    },
    {
     "data": {
      "image/png": "[encoded data removed]",
      "text/plain": [
       "<matplotlib.figure.Figure at 0x1a144e82d0>"
      ]
     },
     "metadata": {},
     "output_type": "display_data"
    },
    {
     "data": {
      "image/png": "[encoded data removed]",
      "text/plain": [
       "<matplotlib.figure.Figure at 0x1a144e8bd0>"
      ]
     },
     "metadata": {},
     "output_type": "display_data"
    }
   ],
   "source": [
    "data_plot = data.get(['Age', 'Survived'])\n",
    "data_plot = data.assign(LogFare=lambda x : np.log(x.Fare + 10.))\n",
    "scatter_matrix(data_plot.get(['Age', 'LogFare']), alpha=0.2, figsize=(8, 8), diagonal='kde');\n",
    "\n",
    "data_plot.plot(kind='scatter', x='Age', y='LogFare', c='Survived', s=50, cmap=plt.cm.Paired);"
   ]
  },
  {
   "cell_type": "markdown",
   "metadata": {},
   "source": [
    "#### Plot the bivariate distributions and marginals of two variables \n",
    "\n",
    "Another way of visualizing relationships between variables is to plot their bivariate distributions."
   ]
  },
  {
   "cell_type": "code",
   "execution_count": 8,
   "metadata": {
    "scrolled": false
   },
   "outputs": [
    {
     "data": {
      "image/png": "[encoded data removed]",
      "text/plain": [
       "<matplotlib.figure.Figure at 0x115680f50>"
      ]
     },
     "metadata": {},
     "output_type": "display_data"
    },
    {
     "data": {
      "image/png": "[encoded data removed]",
      "text/plain": [
       "<matplotlib.figure.Figure at 0x115680f90>"
      ]
     },
     "metadata": {},
     "output_type": "display_data"
    }
   ],
   "source": [
    "import seaborn as sns\n",
    "\n",
    "sns.set()\n",
    "sns.set_style(\"whitegrid\")\n",
    "sns.jointplot(data_plot.Age[data_plot.Survived == 1],\n",
    "              data_plot.LogFare[data_plot.Survived == 1],\n",
    "              kind=\"kde\", size=7, space=0, color=\"b\");\n",
    "\n",
    "sns.jointplot(data_plot.Age[data_plot.Survived == 0],\n",
    "              data_plot.LogFare[data_plot.Survived == 0],\n",
    "              kind=\"kde\", size=7, space=0, color=\"y\");"
   ]
  },
  {
   "cell_type": "markdown",
   "metadata": {},
   "source": [
    "## The pipeline\n",
    "\n",
    "For submitting at the [RAMP site](http://ramp.studio), you will have to write two classes, saved in two different files:   \n",
    "* the class `FeatureExtractor`, which will be used to extract features for classification from the dataset and produce a numpy array of size (number of samples $\\times$ number of features). \n",
    "* a class `Classifier` to predict survival"
   ]
  },
  {
   "cell_type": "markdown",
   "metadata": {},
   "source": [
    "### Feature extractor"
   ]
  },
  {
   "cell_type": "markdown",
   "metadata": {},
   "source": [
    "The feature extractor implements a `transform` member function. It is saved in the file [`submissions/starting_kit/feature_extractor.py`](/edit/submissions/starting_kit/feature_extractor.py). It receives the pandas dataframe `X_df` defined at the beginning of the notebook. It should produce a numpy array representing the extracted features, which will then be used for the classification.  \n",
    "\n",
    "Note that the following code cells are *not* executed in the notebook. The notebook saves their contents in the file specified in the first line of the cell, so you can edit your submission before running the local test below and submitting it at the RAMP site."
   ]
  },
  {
   "cell_type": "code",
   "execution_count": 9,
   "metadata": {},
   "outputs": [
    {
     "name": "stdout",
     "output_type": "stream",
     "text": [
      "Overwriting submissions/starting_kit/feature_extractor.py\n"
     ]
    }
   ],
   "source": [
    "%%file submissions/starting_kit/feature_extractor.py\n",
    "import pandas as pd\n",
    "\n",
    "\n",
    "class FeatureExtractor():\n",
    "    def __init__(self):\n",
    "        pass\n",
    "\n",
    "    def fit(self, X_df, y):\n",
    "        pass\n",
    "\n",
    "    def transform(self, X_df):\n",
    "        X_df_new = pd.concat(\n",
    "            [X_df.get(['Fare', 'Age', 'SibSp', 'Parch']),\n",
    "             pd.get_dummies(X_df.Sex, prefix='Sex', drop_first=True),\n",
    "             pd.get_dummies(X_df.Pclass, prefix='Pclass', drop_first=True),\n",
    "             pd.get_dummies(\n",
    "                 X_df.Embarked, prefix='Embarked', drop_first=True)],\n",
    "            axis=1)\n",
    "        X_df_new = X_df_new.fillna(-1)\n",
    "        XX = X_df_new.values\n",
    "        return XX\n",
    "\n"
   ]
  },
  {
   "cell_type": "markdown",
   "metadata": {},
   "source": [
    "### Classifier"
   ]
  },
  {
   "cell_type": "markdown",
   "metadata": {},
   "source": [
    "The classifier follows a classical scikit-learn classifier template. It should be saved in the file [`submissions/starting_kit/classifier.py`](/edit/submissions/starting_kit/classifier.py). In its simplest form it takes a scikit-learn pipeline, assigns it to `self.clf` in `__init__`, then calls its `fit` and `predict_proba` functions in the corresponding member funtions."
   ]
  },
  {
   "cell_type": "code",
   "execution_count": 10,
   "metadata": {},
   "outputs": [
    {
     "name": "stdout",
     "output_type": "stream",
     "text": [
      "Overwriting submissions/starting_kit/classifier.py\n"
     ]
    }
   ],
   "source": [
    "%%file submissions/starting_kit/classifier.py\n",
    "from sklearn.linear_model import LogisticRegression\n",
    "from sklearn.preprocessing import Imputer\n",
    "from sklearn.pipeline import Pipeline\n",
    "from sklearn.base import BaseEstimator\n",
    "\n",
    "\n",
    "class Classifier(BaseEstimator):\n",
    "    def __init__(self):\n",
    "        self.clf = Pipeline([\n",
    "            ('imputer', Imputer(strategy='median')),\n",
    "            ('classifier', LogisticRegression(C=1.))\n",
    "        ])\n",
    "\n",
    "    def fit(self, X, y):\n",
    "        self.clf.fit(X, y)\n",
    "\n",
    "    def predict_proba(self, X):\n",
    "        return self.clf.predict_proba(X)\n",
    "\n"
   ]
  },
  {
   "cell_type": "markdown",
   "metadata": {},
   "source": [
    "## Local testing (before submission)\n",
    "\n",
    "It is <b><span style=\"color:red\">important that you test your submission files before submitting them</span></b>. For this we provide a unit test. Note that the test runs on your files in [`submissions/starting_kit`](/tree/submissions/starting_kit), not on the classes defined in the cells of this notebook.\n",
    "\n",
    "First `pip install ramp-workflow` or install it from the [github repo](https://github.com/paris-saclay-cds/ramp-workflow). Make sure that the python files `classifier.py` and `feature_extractor.py` are in the  [`submissions/starting_kit`](/tree/submissions/starting_kit) folder, and the data `train.csv` and `test.csv` are in [`data`](/tree/data). Then run\n",
    "\n",
    "```ramp_test_submission```\n",
    "\n",
    "If it runs and print training and test errors on each fold, then you can submit the code."
   ]
  },
  {
   "cell_type": "code",
   "execution_count": 11,
   "metadata": {
    "scrolled": true
   },
   "outputs": [
    {
     "name": "stdout",
     "output_type": "stream",
     "text": [
      "Testing Titanic survival classification\n",
      "Reading train and test files from ./data ...\n",
      "Reading cv ...\n",
      "Training ./submissions/starting_kit ...\n",
      "CV fold 0\n",
      "\ttrain auc = 0.84\n",
      "\tvalid auc = 0.89\n",
      "\ttest auc = 0.83\n",
      "\ttrain acc = 0.8\n",
      "\tvalid acc = 0.85\n",
      "\ttest acc = 0.76\n",
      "\ttrain nll = 0.46\n",
      "\tvalid nll = 0.39\n",
      "\ttest nll = 0.5\n",
      "CV fold 1\n",
      "\ttrain auc = 0.85\n",
      "\tvalid auc = 0.86\n",
      "\ttest auc = 0.83\n",
      "\ttrain acc = 0.81\n",
      "\tvalid acc = 0.8\n",
      "\ttest acc = 0.76\n",
      "\ttrain nll = 0.44\n",
      "\tvalid nll = 0.45\n",
      "\ttest nll = 0.49\n",
      "CV fold 2\n",
      "\ttrain auc = 0.85\n",
      "\tvalid auc = 0.83\n",
      "\ttest auc = 0.82\n",
      "\ttrain acc = 0.81\n",
      "\tvalid acc = 0.79\n",
      "\ttest acc = 0.76\n",
      "\ttrain nll = 0.44\n",
      "\tvalid nll = 0.47\n",
      "\ttest nll = 0.5\n",
      "CV fold 3\n",
      "\ttrain auc = 0.84\n",
      "\tvalid auc = 0.91\n",
      "\ttest auc = 0.83\n",
      "\ttrain acc = 0.8\n",
      "\tvalid acc = 0.82\n",
      "\ttest acc = 0.76\n",
      "\ttrain nll = 0.46\n",
      "\tvalid nll = 0.4\n",
      "\ttest nll = 0.5\n",
      "CV fold 4\n",
      "\ttrain auc = 0.85\n",
      "\tvalid auc = 0.87\n",
      "\ttest auc = 0.83\n",
      "\ttrain acc = 0.81\n",
      "\tvalid acc = 0.81\n",
      "\ttest acc = 0.76\n",
      "\ttrain nll = 0.45\n",
      "\tvalid nll = 0.44\n",
      "\ttest nll = 0.51\n",
      "CV fold 5\n",
      "\ttrain auc = 0.84\n",
      "\tvalid auc = 0.89\n",
      "\ttest auc = 0.84\n",
      "\ttrain acc = 0.8\n",
      "\tvalid acc = 0.81\n",
      "\ttest acc = 0.76\n",
      "\ttrain nll = 0.45\n",
      "\tvalid nll = 0.43\n",
      "\ttest nll = 0.5\n",
      "CV fold 6\n",
      "\ttrain auc = 0.84\n",
      "\tvalid auc = 0.88\n",
      "\ttest auc = 0.84\n",
      "\ttrain acc = 0.81\n",
      "\tvalid acc = 0.79\n",
      "\ttest acc = 0.76\n",
      "\ttrain nll = 0.45\n",
      "\tvalid nll = 0.45\n",
      "\ttest nll = 0.51\n",
      "CV fold 7\n",
      "\ttrain auc = 0.85\n",
      "\tvalid auc = 0.86\n",
      "\ttest auc = 0.84\n",
      "\ttrain acc = 0.81\n",
      "\tvalid acc = 0.79\n",
      "\ttest acc = 0.76\n",
      "\ttrain nll = 0.45\n",
      "\tvalid nll = 0.45\n",
      "\ttest nll = 0.5\n",
      "----------------------------\n",
      "train auc = 0.85 ± 0.005\n",
      "train acc = 0.81 ± 0.006\n",
      "train nll = 0.45 ± 0.007\n",
      "valid auc = 0.87 ± 0.023\n",
      "valid acc = 0.81 ± 0.02\n",
      "valid nll = 0.44 ± 0.024\n",
      "test auc = 0.83 ± 0.006\n",
      "test acc = 0.76 ± 0.003\n",
      "test nll = 0.5 ± 0.005\n"
     ]
    }
   ],
   "source": [
    "!ramp_test_submission"
   ]
  },
  {
   "cell_type": "markdown",
   "metadata": {},
   "source": [
    "## Submitting to [ramp.studio](http://ramp.studio)\n",
    "\n",
    "Once you found a good feature extractor and classifier, you can submit them to [ramp.studio](http://www.ramp.studio). First, if it is your first time using RAMP, [sign up](http://www.ramp.studio/sign_up), otherwise [log in](http://www.ramp.studio/login). Then find an open event on the particular problem, for example, the event [titanic](http://www.ramp.studio/events/titanic) for this RAMP. Sign up for the event. Both signups are controled by RAMP administrators, so there **can be a delay between asking for signup and being able to submit**.\n",
    "\n",
    "Once your signup request is accepted, you can go to your [sandbox](http://www.ramp.studio/events/titanic/sandbox) and copy-paste (or upload) [`feature_extractor.py`](/edit/submissions/starting_kit/feature_extractor.py) and [`classifier.py`](/edit/submissions/starting_kit/classifier.py) from `submissions/starting_kit`. Save it, rename it, then submit it. The submission is trained and tested on our backend in the same way as `ramp_test_submission` does it locally. While your submission is waiting in the queue and being trained, you can find it in the \"New submissions (pending training)\" table in [my submissions](http://www.ramp.studio/events/titanic/my_submissions). Once it is trained, you get a mail, and your submission shows up on the [public leaderboard](http://www.ramp.studio/events/titanic/leaderboard). \n",
    "If there is an error (despite having tested your submission locally with `ramp_test_submission`), it will show up in the \"Failed submissions\" table in [my submissions](http://www.ramp.studio/events/titanic/my_submissions). You can click on the error to see part of the trace.\n",
    "\n",
    "After submission, do not forget to give credits to the previous submissions you reused or integrated into your submission.\n",
    "\n",
    "The data set we use at the backend is usually different from what you find in the starting kit, so the score may be different.\n",
    "\n",
    "The usual way to work with RAMP is to explore solutions, add feature transformations, select models, perhaps do some AutoML/hyperopt, etc., _locally_, and checking them with `ramp_test_submission`. The script prints mean cross-validation scores \n",
    "```\n",
    "----------------------------\n",
    "train auc = 0.85 ± 0.005\n",
    "train acc = 0.81 ± 0.006\n",
    "train nll = 0.45 ± 0.007\n",
    "valid auc = 0.87 ± 0.023\n",
    "valid acc = 0.81 ± 0.02\n",
    "valid nll = 0.44 ± 0.024\n",
    "test auc = 0.83 ± 0.006\n",
    "test acc = 0.76 ± 0.003\n",
    "test nll = 0.5 ± 0.005\n",
    "```\n",
    "The official score in this RAMP (the first score column after \"historical contributivity\" on the [leaderboard](http://www.ramp.studio/events/titanic/leaderboard)) is area under the roc curve (\"auc\"), so the line that is relevant in the output of `ramp_test_submission` is `valid auc = 0.87 ± 0.023`. When the score is good enough, you can submit it at the RAMP."
   ]
  },
  {
   "cell_type": "markdown",
   "metadata": {},
   "source": [
    "## Other models in the starting kit\n",
    "\n",
    "You can also keep several other submissions in your work directory [`submissions`](/tree/submissions). [`random_forest_20_5`](/tree/submissions/random_forest_20_5) uses the same feature extractor as [`starting_kit`](/tree/submissions/starting_kit) but another classifier."
   ]
  },
  {
   "cell_type": "code",
   "execution_count": 12,
   "metadata": {},
   "outputs": [
    {
     "name": "stdout",
     "output_type": "stream",
     "text": [
      "Overwriting submissions/random_forest_20_5/feature_extractor.py\n"
     ]
    }
   ],
   "source": [
    "%%file submissions/random_forest_20_5/feature_extractor.py\n",
    "import pandas as pd\n",
    "\n",
    "\n",
    "class FeatureExtractor():\n",
    "    def __init__(self):\n",
    "        pass\n",
    "\n",
    "    def fit(self, X_df, y):\n",
    "        pass\n",
    "\n",
    "    def transform(self, X_df):\n",
    "        X_df_new = pd.concat(\n",
    "            [X_df.get(['Fare', 'Age', 'SibSp', 'Parch']),\n",
    "             pd.get_dummies(X_df.Sex, prefix='Sex', drop_first=True),\n",
    "             pd.get_dummies(X_df.Pclass, prefix='Pclass', drop_first=True),\n",
    "             pd.get_dummies(\n",
    "                 X_df.Embarked, prefix='Embarked', drop_first=True)],\n",
    "            axis=1)\n",
    "        X_df_new = X_df_new.fillna(-1)\n",
    "        XX = X_df_new.values\n",
    "        return XX\n",
    "\n"
   ]
  },
  {
   "cell_type": "code",
   "execution_count": 13,
   "metadata": {},
   "outputs": [
    {
     "name": "stdout",
     "output_type": "stream",
     "text": [
      "Overwriting submissions/random_forest_20_5/classifier.py\n"
     ]
    }
   ],
   "source": [
    "%%file submissions/random_forest_20_5/classifier.py\n",
    "from sklearn.linear_model import LogisticRegression\n",
    "from sklearn.preprocessing import Imputer\n",
    "from sklearn.pipeline import Pipeline\n",
    "from sklearn.base import BaseEstimator\n",
    "\n",
    "\n",
    "class Classifier(BaseEstimator):\n",
    "    def __init__(self):\n",
    "        self.clf = Pipeline([\n",
    "            ('imputer', Imputer(strategy='median')),\n",
    "            ('classifier', LogisticRegression(C=1.0))\n",
    "        ])\n",
    "\n",
    "    def fit(self, X, y):\n",
    "        self.clf.fit(X, y)\n",
    "\n",
    "    def predict_proba(self, X):\n",
    "        return self.clf.predict_proba(X)\n",
    "\n"
   ]
  },
  {
   "cell_type": "markdown",
   "metadata": {},
   "source": [
    "You can train this by specifying the subfolder in the test script."
   ]
  },
  {
   "cell_type": "code",
   "execution_count": 14,
   "metadata": {},
   "outputs": [
    {
     "name": "stdout",
     "output_type": "stream",
     "text": [
      "Testing Titanic survival classification\n",
      "Reading train and test files from ./data ...\n",
      "Reading cv ...\n",
      "Training ./submissions/random_forest_20_5 ...\n",
      "CV fold 0\n",
      "\ttrain auc = 0.84\n",
      "\tvalid auc = 0.89\n",
      "\ttest auc = 0.83\n",
      "\ttrain acc = 0.8\n",
      "\tvalid acc = 0.85\n",
      "\ttest acc = 0.76\n",
      "\ttrain nll = 0.46\n",
      "\tvalid nll = 0.39\n",
      "\ttest nll = 0.5\n",
      "CV fold 1\n",
      "\ttrain auc = 0.85\n",
      "\tvalid auc = 0.86\n",
      "\ttest auc = 0.83\n",
      "\ttrain acc = 0.81\n",
      "\tvalid acc = 0.8\n",
      "\ttest acc = 0.76\n",
      "\ttrain nll = 0.44\n",
      "\tvalid nll = 0.45\n",
      "\ttest nll = 0.49\n",
      "CV fold 2\n",
      "\ttrain auc = 0.85\n",
      "\tvalid auc = 0.83\n",
      "\ttest auc = 0.82\n",
      "\ttrain acc = 0.81\n",
      "\tvalid acc = 0.79\n",
      "\ttest acc = 0.76\n",
      "\ttrain nll = 0.44\n",
      "\tvalid nll = 0.47\n",
      "\ttest nll = 0.5\n",
      "CV fold 3\n",
      "\ttrain auc = 0.84\n",
      "\tvalid auc = 0.91\n",
      "\ttest auc = 0.83\n",
      "\ttrain acc = 0.8\n",
      "\tvalid acc = 0.82\n",
      "\ttest acc = 0.76\n",
      "\ttrain nll = 0.46\n",
      "\tvalid nll = 0.4\n",
      "\ttest nll = 0.5\n",
      "CV fold 4\n",
      "\ttrain auc = 0.85\n",
      "\tvalid auc = 0.87\n",
      "\ttest auc = 0.83\n",
      "\ttrain acc = 0.81\n",
      "\tvalid acc = 0.81\n",
      "\ttest acc = 0.76\n",
      "\ttrain nll = 0.45\n",
      "\tvalid nll = 0.44\n",
      "\ttest nll = 0.51\n",
      "CV fold 5\n",
      "\ttrain auc = 0.84\n",
      "\tvalid auc = 0.89\n",
      "\ttest auc = 0.84\n",
      "\ttrain acc = 0.8\n",
      "\tvalid acc = 0.81\n",
      "\ttest acc = 0.76\n",
      "\ttrain nll = 0.45\n",
      "\tvalid nll = 0.43\n",
      "\ttest nll = 0.5\n",
      "CV fold 6\n",
      "\ttrain auc = 0.84\n",
      "\tvalid auc = 0.88\n",
      "\ttest auc = 0.84\n",
      "\ttrain acc = 0.81\n",
      "\tvalid acc = 0.79\n",
      "\ttest acc = 0.76\n",
      "\ttrain nll = 0.45\n",
      "\tvalid nll = 0.45\n",
      "\ttest nll = 0.51\n",
      "CV fold 7\n",
      "\ttrain auc = 0.85\n",
      "\tvalid auc = 0.86\n",
      "\ttest auc = 0.84\n",
      "\ttrain acc = 0.81\n",
      "\tvalid acc = 0.79\n",
      "\ttest acc = 0.76\n",
      "\ttrain nll = 0.45\n",
      "\tvalid nll = 0.45\n",
      "\ttest nll = 0.5\n",
      "----------------------------\n",
      "train auc = 0.85 ± 0.005\n",
      "train acc = 0.81 ± 0.006\n",
      "train nll = 0.45 ± 0.007\n",
      "valid auc = 0.87 ± 0.023\n",
      "valid acc = 0.81 ± 0.02\n",
      "valid nll = 0.44 ± 0.024\n",
      "test auc = 0.83 ± 0.006\n",
      "test acc = 0.76 ± 0.003\n",
      "test nll = 0.5 ± 0.005\n"
     ]
    }
   ],
   "source": [
    "!ramp_test_submission --submission random_forest_20_5"
   ]
  },
  {
   "cell_type": "markdown",
   "metadata": {},
   "source": [
    "## Working in the notebook\n",
    "\n",
    "When you are developing and debugging your submission, you may want to stay in the notebook and execute the workflow step by step. You can import `problem.py` and call the ingredients directly, or even deconstruct the code from [ramp-workflow](https://github.com/paris-saclay-cds/ramp-workflow)."
   ]
  },
  {
   "cell_type": "code",
   "execution_count": 52,
   "metadata": {
    "collapsed": true
   },
   "outputs": [],
   "source": [
    "import imp\n",
    "problem = imp.load_source('', 'problem.py')"
   ]
  },
  {
   "cell_type": "markdown",
   "metadata": {},
   "source": [
    "Get the training data."
   ]
  },
  {
   "cell_type": "code",
   "execution_count": 53,
   "metadata": {
    "collapsed": true
   },
   "outputs": [],
   "source": [
    "X_train, y_train = problem.get_train_data()"
   ]
  },
  {
   "cell_type": "markdown",
   "metadata": {},
   "source": [
    "Get the first cv fold, creating training and validation indices."
   ]
  },
  {
   "cell_type": "code",
   "execution_count": 54,
   "metadata": {},
   "outputs": [
    {
     "data": {
      "text/plain": [
       "array([319, 289, 567, 294, 112, 216, 186, 195, 478, 531, 451, 282,  43,\n",
       "       189, 177, 159, 342, 513, 514, 215, 431, 132, 139, 233, 136, 237,\n",
       "       111, 271, 354,  61, 427, 149, 523, 475, 376, 328, 419, 546,   4,\n",
       "        83,  75,   5, 516,  81, 301, 500, 562, 309, 318, 473, 307, 207,\n",
       "       346, 297, 404, 146, 119, 209, 158, 460,  34, 183, 131, 272,  21,\n",
       "       461, 125, 400, 138, 173, 247, 549, 334, 483, 432,   9, 316, 528,\n",
       "       193, 445, 167, 179, 252, 229, 517, 504, 364, 539,  82, 331, 181,\n",
       "       240,  26, 424, 457, 392, 150, 226,  27, 340, 230, 178, 446,   7,\n",
       "        47, 332, 208, 390, 557, 377, 256, 227, 262, 352])"
      ]
     },
     "execution_count": 54,
     "metadata": {},
     "output_type": "execute_result"
    }
   ],
   "source": [
    "train_is, test_is = list(problem.get_cv(X_train, y_train))[0]\n",
    "test_is"
   ]
  },
  {
   "cell_type": "markdown",
   "metadata": {},
   "source": [
    "Train your starting kit."
   ]
  },
  {
   "cell_type": "code",
   "execution_count": 55,
   "metadata": {
    "collapsed": true
   },
   "outputs": [],
   "source": [
    "fe, clf = problem.workflow.train_submission(\n",
    "    'submissions/starting_kit', X_train, y_train, train_is)"
   ]
  },
  {
   "cell_type": "markdown",
   "metadata": {},
   "source": [
    "Get the full prediction (train and validation)."
   ]
  },
  {
   "cell_type": "code",
   "execution_count": 56,
   "metadata": {
    "collapsed": true
   },
   "outputs": [],
   "source": [
    "y_pred = problem.workflow.test_submission((fe, clf), X_train)"
   ]
  },
  {
   "cell_type": "markdown",
   "metadata": {},
   "source": [
    "Print the training and validation scores."
   ]
  },
  {
   "cell_type": "code",
   "execution_count": 57,
   "metadata": {
    "collapsed": true
   },
   "outputs": [],
   "source": [
    "score_function = problem.score_types[0]"
   ]
  },
  {
   "cell_type": "markdown",
   "metadata": {},
   "source": [
    "`score_function` is callable, wrapping scikit-learn's `roc_auc_score`. It expects a 0/1 vector as ground truth (since out labels are 0 and 1, `y_train` can be passed as is), and a 1D vector of predicted probabilities of class '1', which means we need the second column of `y_pred`."
   ]
  },
  {
   "cell_type": "code",
   "execution_count": 58,
   "metadata": {},
   "outputs": [
    {
     "name": "stdout",
     "output_type": "stream",
     "text": [
      "0.84298842199\n"
     ]
    }
   ],
   "source": [
    "score_train = score_function(y_train[train_is], y_pred[:, 1][train_is])\n",
    "print(score_train)"
   ]
  },
  {
   "cell_type": "code",
   "execution_count": 59,
   "metadata": {},
   "outputs": [
    {
     "name": "stdout",
     "output_type": "stream",
     "text": [
      "0.887278582931\n"
     ]
    }
   ],
   "source": [
    "score_valid = score_function(y_train[test_is], y_pred[:, 1][test_is])\n",
    "print(score_valid)"
   ]
  },
  {
   "cell_type": "markdown",
   "metadata": {},
   "source": [
    "You can check that it is just a wrapper of `roc_auc_score`."
   ]
  },
  {
   "cell_type": "code",
   "execution_count": 60,
   "metadata": {},
   "outputs": [
    {
     "name": "stdout",
     "output_type": "stream",
     "text": [
      "0.84298842199\n"
     ]
    }
   ],
   "source": [
    "from sklearn.metrics import roc_auc_score\n",
    "print(roc_auc_score(y_train[train_is], y_pred[:, 1][train_is]))"
   ]
  },
  {
   "cell_type": "markdown",
   "metadata": {},
   "source": [
    "Get the independent test data."
   ]
  },
  {
   "cell_type": "code",
   "execution_count": 61,
   "metadata": {
    "collapsed": true
   },
   "outputs": [],
   "source": [
    "X_test, y_test = problem.get_test_data()"
   ]
  },
  {
   "cell_type": "markdown",
   "metadata": {},
   "source": [
    "Test the submission on it."
   ]
  },
  {
   "cell_type": "code",
   "execution_count": 28,
   "metadata": {
    "collapsed": true
   },
   "outputs": [],
   "source": [
    "y_test_pred = problem.workflow.test_submission((fe, clf), X_test)"
   ]
  },
  {
   "cell_type": "code",
   "execution_count": 30,
   "metadata": {},
   "outputs": [
    {
     "name": "stdout",
     "output_type": "stream",
     "text": [
      "0.827582728006\n"
     ]
    }
   ],
   "source": [
    "score_test = score_function(y_test, y_test_pred[:, 1])\n",
    "print(score_test)"
   ]
  },
  {
   "cell_type": "markdown",
   "metadata": {},
   "source": [
    "If you want to execute training step by step, go to the [`feature_extractor_classifier`](https://github.com/paris-saclay-cds/ramp-workflow/blob/master/rampwf/workflows/feature_extractor_classifier.py), [`feature_extractor`](https://github.com/paris-saclay-cds/ramp-workflow/blob/master/rampwf/workflows/feature_extractor.py), and [`classifier`](https://github.com/paris-saclay-cds/ramp-workflow/blob/master/rampwf/workflows/classifier.py) workflows and deconstruct them.\n",
    "\n",
    "First load the submission files and instantiate the feature extractor and regressor objects."
   ]
  },
  {
   "cell_type": "code",
   "execution_count": 32,
   "metadata": {
    "collapsed": true
   },
   "outputs": [],
   "source": [
    "feature_extractor = imp.load_source(\n",
    "    '', 'submissions/starting_kit/feature_extractor.py')\n",
    "fe = feature_extractor.FeatureExtractor()\n",
    "classifier = imp.load_source(\n",
    "    '', 'submissions/starting_kit/classifier.py')\n",
    "clf = classifier.Classifier()"
   ]
  },
  {
   "cell_type": "markdown",
   "metadata": {},
   "source": [
    "Select the training folds."
   ]
  },
  {
   "cell_type": "code",
   "execution_count": 42,
   "metadata": {
    "collapsed": true
   },
   "outputs": [],
   "source": [
    "X_train_train_df = X_train.iloc[train_is]\n",
    "y_train_train = y_train[train_is]"
   ]
  },
  {
   "cell_type": "markdown",
   "metadata": {},
   "source": [
    "Fit the feature extractor."
   ]
  },
  {
   "cell_type": "code",
   "execution_count": 43,
   "metadata": {
    "collapsed": true
   },
   "outputs": [],
   "source": [
    "fe.fit(X_train_train_df, y_train_train)"
   ]
  },
  {
   "cell_type": "markdown",
   "metadata": {},
   "source": [
    "Transform the training dataframe into numpy array."
   ]
  },
  {
   "cell_type": "code",
   "execution_count": 44,
   "metadata": {
    "collapsed": true
   },
   "outputs": [],
   "source": [
    "X_train_train_array = fe.transform(X_train_train_df)"
   ]
  },
  {
   "cell_type": "markdown",
   "metadata": {},
   "source": [
    "Fit the classifier."
   ]
  },
  {
   "cell_type": "code",
   "execution_count": 46,
   "metadata": {
    "collapsed": true
   },
   "outputs": [],
   "source": [
    "clf.fit(X_train_train_array, y_train_train)"
   ]
  },
  {
   "cell_type": "markdown",
   "metadata": {},
   "source": [
    "Transform the _whole_ (training + validation) dataframe into a numpy array and compute the prediction."
   ]
  },
  {
   "cell_type": "code",
   "execution_count": 49,
   "metadata": {
    "collapsed": true
   },
   "outputs": [],
   "source": [
    "X_train_array = fe.transform(X_train)\n",
    "y_pred = clf.predict_proba(X_train_array)"
   ]
  },
  {
   "cell_type": "markdown",
   "metadata": {},
   "source": [
    "Print the errors."
   ]
  },
  {
   "cell_type": "code",
   "execution_count": 50,
   "metadata": {},
   "outputs": [
    {
     "name": "stdout",
     "output_type": "stream",
     "text": [
      "0.84298842199\n"
     ]
    }
   ],
   "source": [
    "score_train = score_function(y_train[train_is], y_pred[:, 1][train_is])\n",
    "print(score_train)"
   ]
  },
  {
   "cell_type": "code",
   "execution_count": 51,
   "metadata": {},
   "outputs": [
    {
     "name": "stdout",
     "output_type": "stream",
     "text": [
      "0.887278582931\n"
     ]
    }
   ],
   "source": [
    "score_valid = score_function(y_train[test_is], y_pred[:, 1][test_is])\n",
    "print(score_valid)"
   ]
  },
  {
   "cell_type": "markdown",
   "metadata": {},
   "source": [
    "## More information\n",
    "\n",
    "You can find more information in the [README](https://github.com/paris-saclay-cds/ramp-workflow/blob/master/README.md) of the [ramp-workflow library](https://github.com/paris-saclay-cds/ramp-workflow)."
   ]
  },
  {
   "cell_type": "markdown",
   "metadata": {},
   "source": [
    "## Contact\n",
    "\n",
    "Don't hesitate to [contact us](mailto:admin@ramp.studio?subject=titanic notebook)."
   ]
  }
 ],
 "metadata": {
  "anaconda-cloud": {},
  "kernelspec": {
   "display_name": "Python 2",
   "language": "python",
   "name": "python2"
  },
  "language_info": {
   "codemirror_mode": {
    "name": "ipython",
    "version": 2
   },
   "file_extension": ".py",
   "mimetype": "text/x-python",
   "name": "python",
   "nbconvert_exporter": "python",
   "pygments_lexer": "ipython2",
   "version": "2.7.12"
  }
 },
 "nbformat": 4,
 "nbformat_minor": 1
}
